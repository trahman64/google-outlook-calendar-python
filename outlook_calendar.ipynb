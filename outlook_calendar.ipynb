{
 "cells": [
  {
   "cell_type": "code",
   "execution_count": 1,
   "id": "29a11070",
   "metadata": {},
   "outputs": [],
   "source": [
    "# Imports needed for Ical file\n",
    "from icalendar import Calendar, Event\n",
    "from datetime import datetime, timedelta\n",
    "import pytz"
   ]
  },
  {
   "cell_type": "code",
   "execution_count": 2,
   "id": "a7a69f4a",
   "metadata": {},
   "outputs": [],
   "source": [
    "cal = Calendar()\n",
    "cal.add('prodid', '-//Semester Schedule//mxm.dk//')\n",
    "cal.add('version', '2.0')\n",
    "\n",
    "# Set timezone\n",
    "tz = pytz.timezone('US/Eastern')\n",
    "\n",
    "# Define semester range\n",
    "start_date = datetime(2025, 8, 25)  \n",
    "end_date = datetime(2025, 12, 7)\n",
    "\n",
    "# class_times = [\n",
    "#     (10, 0, 13, 0) \n",
    "# ]\n",
    "class_start = [9, 30]\n",
    "class_end = [10,40]\n",
    "\n",
    "project_time_start = [8,0]\n",
    "project_time_end = [10,0]\n",
    "\n",
    "class_names = ['class_list']\n",
    "descriptions = [\n",
    "    \"Topic 1\",\n",
    "    \"Topic 2\",\n",
    "    \"Topic 3\",\n",
    "    \"Topic 4\"\n",
    "]\n",
    "\n",
    "description_index = 0\n",
    "current_date = start_date"
   ]
  },
  {
   "cell_type": "code",
   "execution_count": 3,
   "id": "a68579a4",
   "metadata": {},
   "outputs": [
    {
     "name": "stdout",
     "output_type": "stream",
     "text": [
      "iCal file 'semester_schedule.ics' created.\n"
     ]
    }
   ],
   "source": [
    "while current_date <= end_date:\n",
    "    if current_date.weekday() in [0, 2, 4, 6]:  \n",
    "\n",
    "        # This part is for required events\n",
    "        event = Event()\n",
    "        class_name = class_names[0]\n",
    "        event.add('summary', class_name)\n",
    "        event.add('dtstart', tz.localize(datetime(current_date.year, current_date.month, current_date.day, class_start[0], class_start[1])))\n",
    "        event.add('dtend', tz.localize(datetime(current_date.year, current_date.month, current_date.day, class_end[0], class_end[1])))\n",
    "        event.add('location', \"Engineering Building\")\n",
    "\n",
    "        event.add('transp', 'OPAQUE')\n",
    "        cal.add_component(event)\n",
    "\n",
    "        \n",
    "        # This part is for optional all day events\n",
    "        optional_event = Event()\n",
    "        optional_event.add('summary', \"Project\")\n",
    "        # date ensures there is no time limit set\n",
    "        optional_event.add('dtstart', tz.localize(datetime(current_date.year, current_date.month, current_date.day,0,0)))\n",
    "        optional_event.add('dtend', tz.localize(datetime(current_date.year, current_date.month, current_date.day ,0,0)) + timedelta(days=1))\n",
    "        optional_event.add('location', \"https://www.google.com/\")\n",
    "        \n",
    "        # This makes it optional\n",
    "        optional_event.add('transp', 'TRANSPARENT')  \n",
    "        cal.add_component(optional_event)\n",
    "    current_date += timedelta(days=1)\n",
    "\n",
    "\n",
    "with open('semester_schedule.ics', 'wb') as f:\n",
    "    f.write(cal.to_ical())\n",
    "\n",
    "print(\"iCal file 'semester_schedule.ics' created.\")"
   ]
  },
  {
   "cell_type": "code",
   "execution_count": null,
   "id": "3b6c2826",
   "metadata": {},
   "outputs": [],
   "source": []
  }
 ],
 "metadata": {
  "kernelspec": {
   "display_name": "base",
   "language": "python",
   "name": "python3"
  },
  "language_info": {
   "codemirror_mode": {
    "name": "ipython",
    "version": 3
   },
   "file_extension": ".py",
   "mimetype": "text/x-python",
   "name": "python",
   "nbconvert_exporter": "python",
   "pygments_lexer": "ipython3",
   "version": "3.12.7"
  }
 },
 "nbformat": 4,
 "nbformat_minor": 5
}
